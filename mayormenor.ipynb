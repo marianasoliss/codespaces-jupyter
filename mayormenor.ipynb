{
 "cells": [
  {
   "cell_type": "code",
   "execution_count": null,
   "metadata": {},
   "outputs": [],
   "source": [
    "x=float(input(\"Escribe un numero entero\"))\n",
    "y=float(input(\"Escribe un numero entero\"))\n",
    "if x>y:\n",
    "    print (\"El primer numero es mayor\")\n",
    "else:\n",
    "    print (\"El segun do numero es mayor\")   \n"
   ]
  }
 ],
 "metadata": {
  "language_info": {
   "name": "python"
  }
 },
 "nbformat": 4,
 "nbformat_minor": 2
}
